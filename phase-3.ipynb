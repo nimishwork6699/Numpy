{
 "cells": [
  {
   "cell_type": "code",
   "execution_count": 2,
   "id": "2b5429f9",
   "metadata": {},
   "outputs": [],
   "source": [
    "import numpy as np\n",
    "import matplotlib.pyplot as plt\n"
   ]
  },
  {
   "cell_type": "code",
   "execution_count": 8,
   "id": "8d253d99",
   "metadata": {},
   "outputs": [
    {
     "name": "stdout",
     "output_type": "stream",
     "text": [
      "=== ZOMATO SALES ===\n",
      "\n",
      " Salse Size: (5, 5)\n",
      "\n",
      "Sample Data for 1st 3 rd restraunt [[150000 180000 220000 250000]\n",
      " [120000 140000 160000 190000]\n",
      " [200000 230000 260000 300000]\n",
      " [180000 210000 240000 270000]\n",
      " [160000 185000 205000 230000]]\n"
     ]
    }
   ],
   "source": [
    "# Data structure: [restaurant_id, 2021, 2022, 2023, 2024]\n",
    "sales_data = np.array([\n",
    "    [1, 150000, 180000, 220000, 250000],  # Paradise Biryani\n",
    "    [2, 120000, 140000, 160000, 190000],  # Beijing Bites\n",
    "    [3, 200000, 230000, 260000, 300000],  # Pizza Hub\n",
    "    [4, 180000, 210000, 240000, 270000],  # Burger Point\n",
    "    [5, 160000, 185000, 205000, 230000]   # Chai Point\n",
    "])\n",
    "# : means \"all\".\n",
    "# start:end means \"from start index to end index (not including end)\".\n",
    "# You can use [row_slice, column_slice] to select parts of a 2D array.\n",
    "\n",
    "print(\"=== ZOMATO SALES ===\")\n",
    "print(\"\\n Salse Size:\",sales_data.shape)\n",
    "print(\"\\nSample Data for 1st 3 rd restraunt\",sales_data[:,1:])\n"
   ]
  },
  {
   "cell_type": "markdown",
   "id": "8321b75c",
   "metadata": {},
   "source": [
    "## SALES DATA\n"
   ]
  },
  {
   "cell_type": "code",
   "execution_count": 15,
   "id": "ae43884d",
   "metadata": {},
   "outputs": [
    {
     "name": "stdout",
     "output_type": "stream",
     "text": [
      "[     15  810000  945000 1085000 1240000]\n",
      "[ 810000  945000 1085000 1240000]\n",
      "[150000 120000 200000 180000 160000]\n",
      "[200000 230000 260000 300000]\n",
      "[200000. 152500. 247500. 225000. 195000.]\n"
     ]
    }
   ],
   "source": [
    "print(np.sum(sales_data,axis=0))# axis = 0 for  the vertical addition\n",
    "total_sales=np.sum(sales_data[:,1:],axis=0)\n",
    "print(total_sales)\n",
    "\n",
    "#for min sales amoung all\n",
    "mim_sales=np.min(sales_data[:,1:],axis=1) # as axis  1 is for row vise\n",
    "print(mim_sales)\n",
    "\n",
    "#for max sales per year\n",
    "max_sales=np.max(sales_data[:,1:],axis=0)\n",
    "print(max_sales)\n",
    "\n",
    "# AVG sales per restraunt\n",
    "avg_salaes=np.mean(sales_data[:,1:],axis=1)\n",
    "print(avg_salaes)\n"
   ]
  },
  {
   "cell_type": "code",
   "execution_count": 16,
   "id": "3a007df9",
   "metadata": {},
   "outputs": [
    {
     "name": "stdout",
     "output_type": "stream",
     "text": [
      "[[150000 330000 550000 800000]\n",
      " [120000 260000 420000 610000]\n",
      " [200000 430000 690000 990000]\n",
      " [180000 390000 630000 900000]\n",
      " [160000 345000 550000 780000]]\n"
     ]
    }
   ],
   "source": [
    "# For cumulative sales\n",
    "cumsum=np.cumsum(sales_data[:,1:],axis=1)\n",
    "print(cumsum)"
   ]
  },
  {
   "cell_type": "markdown",
   "id": "3ac79638",
   "metadata": {},
   "source": [
    "## Vector add and multiply"
   ]
  },
  {
   "cell_type": "code",
   "execution_count": 4,
   "id": "ec689a69",
   "metadata": {},
   "outputs": [
    {
     "name": "stdout",
     "output_type": "stream",
     "text": [
      "Vector Addition [ 7  9 11 13 15]\n",
      "Vector Multiply [ 6 14 24 36 50]\n",
      "Dot product 130\n"
     ]
    }
   ],
   "source": [
    "vector1=np.array([1,2,3,4,5])\n",
    "vecto2=np.array([6,7,8,9,10])\n",
    "\n",
    "print(\"Vector Addition\",vector1+vecto2)\n",
    "\n",
    "print(\"Vector Multiply\",vector1*vecto2)\n",
    "\n",
    "print(\"Dot product\",np.dot(vector1,vecto2))"
   ]
  },
  {
   "cell_type": "markdown",
   "id": "e12f8b9a",
   "metadata": {},
   "source": [
    "## Vectorized upper"
   ]
  },
  {
   "cell_type": "code",
   "execution_count": 6,
   "id": "62289feb",
   "metadata": {},
   "outputs": [
    {
     "name": "stdout",
     "output_type": "stream",
     "text": [
      "Vectorized Upper ['BIRIYANI' 'CHINESE' 'BURGER' 'PIZZA']\n"
     ]
    }
   ],
   "source": [
    "restaurant_type=np.array(['biriyani','chinese','burger','pizza'])\n",
    "vectorized_upper=np.vectorize(str.upper)\n",
    "print(\"Vectorized Upper\",vectorized_upper(restaurant_type))"
   ]
  },
  {
   "cell_type": "markdown",
   "id": "a70bcf2c",
   "metadata": {},
   "source": [
    "## BRODCASTING means ek ek ke pas jakr will purform opperation"
   ]
  },
  {
   "cell_type": "code",
   "execution_count": 9,
   "id": "e9cbc621",
   "metadata": {},
   "outputs": [
    {
     "name": "stdout",
     "output_type": "stream",
     "text": [
      "[[12500.         15000.         18333.33333333 20833.33333333]\n",
      " [10000.         11666.66666667 13333.33333333 15833.33333333]\n",
      " [16666.66666667 19166.66666667 21666.66666667 25000.        ]\n",
      " [15000.         17500.         20000.         22500.        ]\n",
      " [13333.33333333 15416.66666667 17083.33333333 19166.66666667]]\n"
     ]
    }
   ],
   "source": [
    "monthly_avg=sales_data[:,1:]/12 \n",
    "print(monthly_avg)"
   ]
  },
  {
   "cell_type": "code",
   "execution_count": null,
   "id": "9ae8a56b",
   "metadata": {},
   "outputs": [],
   "source": []
  }
 ],
 "metadata": {
  "kernelspec": {
   "display_name": "venv",
   "language": "python",
   "name": "python3"
  },
  "language_info": {
   "codemirror_mode": {
    "name": "ipython",
    "version": 3
   },
   "file_extension": ".py",
   "mimetype": "text/x-python",
   "name": "python",
   "nbconvert_exporter": "python",
   "pygments_lexer": "ipython3",
   "version": "3.10.0"
  }
 },
 "nbformat": 4,
 "nbformat_minor": 5
}
