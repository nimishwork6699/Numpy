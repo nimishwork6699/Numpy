{
 "cells": [
  {
   "cell_type": "markdown",
   "id": "f86992e1",
   "metadata": {},
   "source": [
    "## Array Slicing"
   ]
  },
  {
   "cell_type": "code",
   "execution_count": 2,
   "id": "f0564e1a",
   "metadata": {},
   "outputs": [],
   "source": [
    "import numpy as np"
   ]
  },
  {
   "cell_type": "code",
   "execution_count": 3,
   "id": "70f4e84f",
   "metadata": {},
   "outputs": [
    {
     "name": "stdout",
     "output_type": "stream",
     "text": [
      "Basic slicing [3 4 5 6 7]\n",
      "With Steps [2 4 6]\n",
      "Negative slicing 5\n"
     ]
    }
   ],
   "source": [
    "arr=np.array([1, 2, 3, 4, 5,6,7])  \n",
    "print(\"Basic slicing\",arr[2:7])\n",
    "print(\"With Steps\",arr[1:8:2])\n",
    "print(\"Negative slicing\",arr[-3])"
   ]
  },
  {
   "cell_type": "code",
   "execution_count": 7,
   "id": "81d988db",
   "metadata": {},
   "outputs": [
    {
     "name": "stdout",
     "output_type": "stream",
     "text": [
      "Specific element : 8\n",
      "entire row [4 5 6]\n",
      "entire columb [2 5 8]\n"
     ]
    }
   ],
   "source": [
    "arr_2d=np.array([[1,2,3], # 0th row\n",
    "                 [4,5,6],  #1st row\n",
    "                 [7,8,9]])\n",
    "print(\"Specific element :\",arr_2d[2,1])\n",
    "print(\"entire row\",arr_2d[1])\n",
    "print(\"entire columb\",arr_2d[:,1])"
   ]
  },
  {
   "cell_type": "markdown",
   "id": "91d7fc76",
   "metadata": {},
   "source": [
    "## SORTING"
   ]
  },
  {
   "cell_type": "code",
   "execution_count": 11,
   "id": "15328638",
   "metadata": {},
   "outputs": [
    {
     "name": "stdout",
     "output_type": "stream",
     "text": [
      "Sorting array [1 1 2 2 3 4 5 8 9]\n",
      "sorting 2d array by colums [[2 1]\n",
      " [3 1]\n",
      " [4 1]]\n",
      "sorting 2d array by rows [[1 3]\n",
      " [1 2]\n",
      " [1 4]]\n"
     ]
    }
   ],
   "source": [
    "unsorted=np.array([1,2,3,1,2,4,5,9,8])\n",
    "print(\"Sorting array\",np.sort(unsorted))\n",
    "\n",
    "arr_2d_unsorted=np.array([[3,1],[2,1],[4,1]])# mostly will use this \n",
    "print(\"sorting 2d array by colums\",np.sort(arr_2d_unsorted,axis=0)) \n",
    "\n",
    "arr_2d_unsorted=np.array([[3,1],[2,1],[4,1]])# mostly will use this \n",
    "print(\"sorting 2d array by rows\",np.sort(arr_2d_unsorted,axis=1)) "
   ]
  },
  {
   "cell_type": "markdown",
   "id": "7895d0a3",
   "metadata": {},
   "source": [
    "## Filtering"
   ]
  },
  {
   "cell_type": "code",
   "execution_count": 13,
   "id": "5076e974",
   "metadata": {},
   "outputs": [
    {
     "name": "stdout",
     "output_type": "stream",
     "text": [
      "Even numbers [2 4 6 8]\n"
     ]
    }
   ],
   "source": [
    "numbers=np.array([1,2,3,4,5,6,7,8,9])\n",
    "even_number=numbers[numbers % 2==0]\n",
    "print(\"Even numbers\",even_number)"
   ]
  },
  {
   "cell_type": "markdown",
   "id": "83f7f630",
   "metadata": {},
   "source": [
    "## Filtering my mask"
   ]
  },
  {
   "cell_type": "code",
   "execution_count": 15,
   "id": "5080f581",
   "metadata": {},
   "outputs": [
    {
     "name": "stdout",
     "output_type": "stream",
     "text": [
      "Numbers greater than 5 [6 7 8 9]\n"
     ]
    }
   ],
   "source": [
    "mask= numbers>5\n",
    "print(\"Numbers greater than 5\",numbers[mask])\n"
   ]
  },
  {
   "cell_type": "markdown",
   "id": "9ade7d5e",
   "metadata": {},
   "source": [
    "## Fancy indices vs np.where()"
   ]
  },
  {
   "cell_type": "code",
   "execution_count": 17,
   "id": "16b3e0d1",
   "metadata": {},
   "outputs": [
    {
     "name": "stdout",
     "output_type": "stream",
     "text": [
      "[1 3 5]\n",
      "NP where  [6 7 8 9]\n"
     ]
    }
   ],
   "source": [
    "indices=[0,2,4]\n",
    "print(numbers[indices])\n",
    "\n",
    "where_result=np.where(numbers>5)\n",
    "print(\"NP where \",numbers[where_result])\n"
   ]
  },
  {
   "cell_type": "code",
   "execution_count": 19,
   "id": "79811a76",
   "metadata": {},
   "outputs": [
    {
     "name": "stdout",
     "output_type": "stream",
     "text": [
      "['false' 'false' 'false' 'false' 'false' 'true' 'true' 'true' 'true']\n"
     ]
    }
   ],
   "source": [
    "condition_array=np.where(numbers>5,\"true\",\"false\")\n",
    "print(condition_array)"
   ]
  },
  {
   "cell_type": "markdown",
   "id": "62cd1f16",
   "metadata": {},
   "source": [
    "## Adding and Subtracting"
   ]
  },
  {
   "cell_type": "code",
   "execution_count": 21,
   "id": "5074cc64",
   "metadata": {},
   "outputs": [
    {
     "name": "stdout",
     "output_type": "stream",
     "text": [
      "[1 2 3 4 5 6]\n"
     ]
    }
   ],
   "source": [
    "arr1=np.array([1,2,3])\n",
    "arr2=np.array([4,5,6])\n",
    "\n",
    "combined=np.concatenate((arr1,arr2))\n",
    "print(combined)"
   ]
  },
  {
   "cell_type": "markdown",
   "id": "885f5134",
   "metadata": {},
   "source": [
    "## Array compatibility    "
   ]
  },
  {
   "cell_type": "code",
   "execution_count": 3,
   "id": "faa4727f",
   "metadata": {},
   "outputs": [
    {
     "name": "stdout",
     "output_type": "stream",
     "text": [
      "Compatibility shapes True\n"
     ]
    }
   ],
   "source": [
    "a=np.array([1,2,3])\n",
    "b=np.array([4,5,6])\n",
    "c=np.array([7,8,9])\n",
    "\n",
    "print(\"Compatibility shapes\",a.shape==b.shape)"
   ]
  },
  {
   "cell_type": "markdown",
   "id": "c1bddd9c",
   "metadata": {},
   "source": [
    "## Entering new colum and row"
   ]
  },
  {
   "cell_type": "code",
   "execution_count": null,
   "id": "dc58e090",
   "metadata": {},
   "outputs": [
    {
     "name": "stdout",
     "output_type": "stream",
     "text": [
      "With new row: [[1 2]\n",
      " [3 4]\n",
      " [5 6]]\n",
      "With new columb [[1 2 8]\n",
      " [3 4 9]]\n"
     ]
    }
   ],
   "source": [
    "orignal=np.array([[1,2],[3,4]])\n",
    "new_row=np.array([5,6])\n",
    "\n",
    "with_new_row=np.vstack((orignal,new_row))\n",
    "print(\"With new row:\",with_new_row)\n",
    "\n",
    "new_col=np.array([[8],[9]]) # indentation to be noted and precised\n",
    "with_new_columb=np.hstack((orignal,new_col))\n",
    "print(\"With new columb\",with_new_columb)"
   ]
  },
  {
   "cell_type": "markdown",
   "id": "4f7410ee",
   "metadata": {},
   "source": [
    "## Deleting array"
   ]
  },
  {
   "cell_type": "code",
   "execution_count": 8,
   "id": "3cc4e7fd",
   "metadata": {},
   "outputs": [
    {
     "name": "stdout",
     "output_type": "stream",
     "text": [
      "deleted array: [1 2 4 5]\n"
     ]
    }
   ],
   "source": [
    "arr=np.array([1,2,3,4,5])\n",
    "deleeted=np.delete(arr,2)\n",
    "print(\"deleted array:\",deleeted)"
   ]
  },
  {
   "cell_type": "code",
   "execution_count": null,
   "id": "adade2ff",
   "metadata": {},
   "outputs": [],
   "source": []
  }
 ],
 "metadata": {
  "kernelspec": {
   "display_name": "venv",
   "language": "python",
   "name": "python3"
  },
  "language_info": {
   "codemirror_mode": {
    "name": "ipython",
    "version": 3
   },
   "file_extension": ".py",
   "mimetype": "text/x-python",
   "name": "python",
   "nbconvert_exporter": "python",
   "pygments_lexer": "ipython3",
   "version": "3.10.0"
  }
 },
 "nbformat": 4,
 "nbformat_minor": 5
}
