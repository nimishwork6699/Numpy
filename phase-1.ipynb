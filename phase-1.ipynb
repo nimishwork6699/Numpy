{
 "cells": [
  {
   "cell_type": "markdown",
   "id": "00d7be8d",
   "metadata": {},
   "source": [
    "## Numpy array and basics\n",
    "learn about numpy"
   ]
  },
  {
   "cell_type": "code",
   "execution_count": 2,
   "id": "32b33db2",
   "metadata": {},
   "outputs": [],
   "source": [
    "import numpy as np"
   ]
  },
  {
   "cell_type": "markdown",
   "id": "58510b65",
   "metadata": {},
   "source": [
    "## Creating array from list"
   ]
  },
  {
   "cell_type": "code",
   "execution_count": null,
   "id": "dc11d77d",
   "metadata": {},
   "outputs": [
    {
     "name": "stdout",
     "output_type": "stream",
     "text": [
      "arr_1d:  [1 2 3 4]\n",
      "arr_2d: [[1 2 3]\n",
      " [4 5 6]]\n"
     ]
    }
   ],
   "source": [
    "arr_1d=np.array([1,2,3,4])\n",
    "print(\"arr_1d: \", arr_1d)\n",
    "\n",
    "arr_2d=np.array([[1,2,3],[4,5,6]]) #2 array ko ek aur array me dalenge\n",
    "print(\"arr_2d:\", arr_2d)\n"
   ]
  },
  {
   "cell_type": "markdown",
   "id": "9aad3b92",
   "metadata": {},
   "source": [
    "### List vs numpy array"
   ]
  },
  {
   "cell_type": "code",
   "execution_count": 5,
   "id": "6b3a2342",
   "metadata": {},
   "outputs": [
    {
     "name": "stdout",
     "output_type": "stream",
     "text": [
      "Pynthon list multiplication [1, 2, 3, 4, 1, 2, 3, 4]\n",
      "Numpy array multiplication: [2 4 6 8]\n",
      "/n List operation time : 0.09286355972290039\n",
      "/n Array operation time : 0.009078264236450195\n"
     ]
    }
   ],
   "source": [
    "py_list=[1,2,3,4]\n",
    "print(\"Pynthon list multiplication\",py_list*2)\n",
    "\n",
    "np_array=np.array([1,2,3,4]) #eliment wise multiplication\n",
    "print(\"Numpy array multiplication:\", np_array*2)\n",
    "\n",
    "import time\n",
    "start=time.time()#for calculatiing in secounds\n",
    "py_list=[i*2 for i in range(1000000)]\n",
    "print(\"/n List operation time :\",time.time()-start)\n",
    "\n",
    "start=time.time()\n",
    "np_array=np.arange(1000000)*2\n",
    "print(\"/n Array operation time :\",time.time()-start)\n",
    "\n",
    "\n"
   ]
  },
  {
   "cell_type": "markdown",
   "id": "5ed01341",
   "metadata": {},
   "source": [
    "## creating arays from scratch\n",
    "\n"
   ]
  },
  {
   "cell_type": "code",
   "execution_count": 14,
   "id": "df24d8b4",
   "metadata": {},
   "outputs": [
    {
     "name": "stdout",
     "output_type": "stream",
     "text": [
      "zeroes of array : [[0. 0. 0. 0.]\n",
      " [0. 0. 0. 0.]\n",
      " [0. 0. 0. 0.]]\n",
      "ones of array  :\n",
      " [[1. 1. 1. 1.]\n",
      " [1. 1. 1. 1.]\n",
      " [1. 1. 1. 1.]]\n",
      "full of array  :\n",
      " [[7 7 7 7]\n",
      " [7 7 7 7]\n",
      " [7 7 7 7]]\n",
      "random of array  :\n",
      " [[0.37845976 0.25893822 0.6063317  0.70369614]\n",
      " [0.18074571 0.55882394 0.85869143 0.86026369]\n",
      " [0.14294144 0.62228105 0.57627106 0.52991467]]\n",
      "sequence of array  :\n",
      " [ 0  2  4  6  8 10]\n"
     ]
    }
   ],
   "source": [
    "zeroes=np.zeros([3,4]) #rows , collums\n",
    "print(\"zeroes of array :\",zeroes)\n",
    "\n",
    "ones=np.ones([3,4])\n",
    "print(\"ones of array  :\\n\",ones)\n",
    "\n",
    "full=np.full([3,4],7)\n",
    "print(\"full of array  :\\n\",full)\n",
    "\n",
    "random=np.random.random([3,4])\n",
    "print(\"random of array  :\\n\",random)\n",
    "\n",
    "sequence=np.arange(0,11,2)\n",
    "print(\"sequence of array  :\\n\",sequence)\n",
    "\n"
   ]
  },
  {
   "cell_type": "markdown",
   "id": "9463ae8d",
   "metadata": {},
   "source": [
    "\n",
    "## VECTOR,MATRIX AND TENSOR\n"
   ]
  },
  {
   "cell_type": "code",
   "execution_count": 16,
   "id": "5aef40e0",
   "metadata": {},
   "outputs": [
    {
     "name": "stdout",
     "output_type": "stream",
     "text": [
      "Vector:\n",
      " [1 2 3]\n",
      "Matrix:\n",
      " [[1 2 3]\n",
      " [4 5 4]]\n",
      "Tenor:\n",
      " [[[1 2]\n",
      "  [3 4]]\n",
      "\n",
      " [[3 4]\n",
      "  [0 9]]]\n"
     ]
    }
   ],
   "source": [
    "vector=np.array([1,2,3])\n",
    "print(\"Vector:\\n\",vector)\n",
    "\n",
    "matrix=np.array([[1,2,3],\n",
    "                 [4,5,4]])\n",
    "print(\"Matrix:\\n\",matrix)\n",
    "\n",
    "\n",
    "tensor=np.array([[[1,2],[3,4]],\n",
    "                 [[3,4],[0,9]]])\n",
    "print(\"Tenor:\\n\",tensor)\n"
   ]
  },
  {
   "cell_type": "markdown",
   "id": "9dfc220f",
   "metadata": {},
   "source": [
    "## ARRAYS Property"
   ]
  },
  {
   "cell_type": "code",
   "execution_count": 20,
   "id": "87b0cf72",
   "metadata": {},
   "outputs": [
    {
     "name": "stdout",
     "output_type": "stream",
     "text": [
      "Shape:\n",
      " (2, 3)\n",
      "Dimmension:\n",
      " 2\n",
      "Size:\n",
      " 6\n",
      "Dtype:\n",
      " int64\n"
     ]
    }
   ],
   "source": [
    "arr=np.array([[1,2,3],\n",
    "                [5,6,7]]) #at 7 or any other we can place other like float and bolean but due to numpy it work fast on its similar \n",
    "                             # kind of datas\n",
    "print(\"Shape:\\n\",arr.shape)\n",
    "print(\"Dimmension:\\n\",arr.ndim)\n",
    "print(\"Size:\\n\",arr.size)\n",
    "print(\"Dtype:\\n\",arr.dtype)\n"
   ]
  },
  {
   "cell_type": "markdown",
   "id": "f277f97a",
   "metadata": {},
   "source": [
    "## Array Reshaping\n"
   ]
  },
  {
   "cell_type": "code",
   "execution_count": null,
   "id": "81b2a07d",
   "metadata": {},
   "outputs": [
    {
     "name": "stdout",
     "output_type": "stream",
     "text": [
      "Orignal array [ 0  1  2  3  4  5  6  7  8  9 10 11]\n",
      "Reshaped array [[ 0  1  2  3]\n",
      " [ 4  5  6  7]\n",
      " [ 8  9 10 11]]\n",
      "Flattered array [ 0  1  2  3  4  5  6  7  8  9 10 11]\n"
     ]
    }
   ],
   "source": [
    "arr=np.arange(12)\n",
    "print(\"Orignal array\",arr)\n",
    "\n",
    "reshaped=arr.reshape([3,4])\n",
    "print(\"Reshaped array\",reshaped)\n",
    "\n",
    "#as in this case the flattered return the copy value as the orignal value is protected and made a copy and send \n",
    "flattered=reshaped.flatten()\n",
    "print(\"Flattered array\",flattered)\n",
    "\n",
    "# it will return the view value(means the orignal one) not the copy value \n",
    "ravelled=reshaped.ravel()\n",
    "print(\"Raveled array \",ravelled)\n",
    "\n",
    "#Transpose  [a,b]        [a,d]\n",
    "#           [d,e]        [b,e]   transpose baki from google\n",
    "transpose=reshaped.T\n",
    "print(\"Transpose array \",transpose)\n",
    "\n",
    "\n",
    "\n"
   ]
  }
 ],
 "metadata": {
  "kernelspec": {
   "display_name": "venv",
   "language": "python",
   "name": "python3"
  },
  "language_info": {
   "codemirror_mode": {
    "name": "ipython",
    "version": 3
   },
   "file_extension": ".py",
   "mimetype": "text/x-python",
   "name": "python",
   "nbconvert_exporter": "python",
   "pygments_lexer": "ipython3",
   "version": "3.10.0"
  }
 },
 "nbformat": 4,
 "nbformat_minor": 5
}
